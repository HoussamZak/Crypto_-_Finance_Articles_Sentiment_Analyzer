{
 "cells": [
  {
   "cell_type": "markdown",
   "metadata": {},
   "source": [
    "My plan is to create a bot that parses big news articles for a given keyword in order to generate a summary in a few seconds while running a sentiment analysis on the summary of each article.\n",
    "\n",
    "This is informative and useful to anyone as a trader/investor when considering recent stocks or crypto news!"
   ]
  },
  {
   "cell_type": "markdown",
   "metadata": {},
   "source": [
    "The flow of the bot:\n",
    "1_Extract => 2_Summarize => 3_Analyze\n",
    "\n",
    "1_We extract the articles from Google news with the Google News python package.\n",
    "2_We summarize each article using Newspaper Python Package\n",
    "3_Run sentiment analysis on each summary with the help of VADER."
   ]
  },
  {
   "cell_type": "code",
   "execution_count": 30,
   "metadata": {},
   "outputs": [
    {
     "name": "stdout",
     "output_type": "stream",
     "text": [
      "Requirement already satisfied: GoogleNews in c:\\users\\fluffy\\appdata\\local\\programs\\pythoncodingpack\\lib\\site-packages (1.6.2)\n",
      "Requirement already satisfied: beautifulsoup4 in c:\\users\\fluffy\\appdata\\local\\programs\\pythoncodingpack\\lib\\site-packages (from GoogleNews) (4.10.0)\n",
      "Requirement already satisfied: dateparser in c:\\users\\fluffy\\appdata\\local\\programs\\pythoncodingpack\\lib\\site-packages (from GoogleNews) (1.1.0)\n",
      "Requirement already satisfied: python-dateutil in c:\\users\\fluffy\\appdata\\local\\programs\\pythoncodingpack\\lib\\site-packages (from GoogleNews) (2.8.1)\n",
      "Requirement already satisfied: soupsieve>1.2 in c:\\users\\fluffy\\appdata\\local\\programs\\pythoncodingpack\\lib\\site-packages (from beautifulsoup4->GoogleNews) (2.3)\n",
      "Requirement already satisfied: tzlocal in c:\\users\\fluffy\\appdata\\local\\programs\\pythoncodingpack\\lib\\site-packages (from dateparser->GoogleNews) (4.1)\n",
      "Requirement already satisfied: regex!=2019.02.19,!=2021.8.27 in c:\\users\\fluffy\\appdata\\local\\programs\\pythoncodingpack\\lib\\site-packages (from dateparser->GoogleNews) (2021.10.23)\n",
      "Requirement already satisfied: pytz in c:\\users\\fluffy\\appdata\\local\\programs\\pythoncodingpack\\lib\\site-packages (from dateparser->GoogleNews) (2020.1)\n",
      "Requirement already satisfied: six>=1.5 in c:\\users\\fluffy\\appdata\\local\\programs\\pythoncodingpack\\lib\\site-packages (from python-dateutil->GoogleNews) (1.15.0)\n",
      "Requirement already satisfied: tzdata in c:\\users\\fluffy\\appdata\\local\\programs\\pythoncodingpack\\lib\\site-packages (from tzlocal->dateparser->GoogleNews) (2021.5)\n",
      "Requirement already satisfied: pytz-deprecation-shim in c:\\users\\fluffy\\appdata\\local\\programs\\pythoncodingpack\\lib\\site-packages (from tzlocal->dateparser->GoogleNews) (0.1.0.post0)\n",
      "Requirement already satisfied: backports.zoneinfo in c:\\users\\fluffy\\appdata\\local\\programs\\pythoncodingpack\\lib\\site-packages (from tzlocal->dateparser->GoogleNews) (0.2.1)\n"
     ]
    },
    {
     "name": "stderr",
     "output_type": "stream",
     "text": [
      "WARNING: You are using pip version 22.0.4; however, version 22.1 is available.\n",
      "You should consider upgrading via the 'c:\\Users\\Fluffy\\AppData\\Local\\Programs\\PythonCodingPack\\python.exe -m pip install --upgrade pip' command.\n"
     ]
    },
    {
     "name": "stdout",
     "output_type": "stream",
     "text": [
      "Requirement already satisfied: nltk in c:\\users\\fluffy\\appdata\\local\\programs\\pythoncodingpack\\lib\\site-packages (3.6.5)\n",
      "Requirement already satisfied: tqdm in c:\\users\\fluffy\\appdata\\local\\programs\\pythoncodingpack\\lib\\site-packages (from nltk) (4.62.3)\n",
      "Requirement already satisfied: click in c:\\users\\fluffy\\appdata\\local\\programs\\pythoncodingpack\\lib\\site-packages (from nltk) (8.0.3)\n",
      "Requirement already satisfied: regex>=2021.8.3 in c:\\users\\fluffy\\appdata\\local\\programs\\pythoncodingpack\\lib\\site-packages (from nltk) (2021.10.23)\n",
      "Requirement already satisfied: joblib in c:\\users\\fluffy\\appdata\\local\\programs\\pythoncodingpack\\lib\\site-packages (from nltk) (0.16.0)\n",
      "Requirement already satisfied: colorama in c:\\users\\fluffy\\appdata\\local\\programs\\pythoncodingpack\\lib\\site-packages (from click->nltk) (0.4.3)\n"
     ]
    },
    {
     "name": "stderr",
     "output_type": "stream",
     "text": [
      "WARNING: You are using pip version 22.0.4; however, version 22.1 is available.\n",
      "You should consider upgrading via the 'c:\\Users\\Fluffy\\AppData\\Local\\Programs\\PythonCodingPack\\python.exe -m pip install --upgrade pip' command.\n"
     ]
    },
    {
     "name": "stdout",
     "output_type": "stream",
     "text": [
      "Requirement already satisfied: newspaper3k in c:\\users\\fluffy\\appdata\\local\\programs\\pythoncodingpack\\lib\\site-packages (0.2.8)\n",
      "Requirement already satisfied: tinysegmenter==0.3 in c:\\users\\fluffy\\appdata\\local\\programs\\pythoncodingpack\\lib\\site-packages (from newspaper3k) (0.3)\n",
      "Requirement already satisfied: tldextract>=2.0.1 in c:\\users\\fluffy\\appdata\\local\\programs\\pythoncodingpack\\lib\\site-packages (from newspaper3k) (3.3.0)\n",
      "Requirement already satisfied: nltk>=3.2.1 in c:\\users\\fluffy\\appdata\\local\\programs\\pythoncodingpack\\lib\\site-packages (from newspaper3k) (3.6.5)\n",
      "Requirement already satisfied: requests>=2.10.0 in c:\\users\\fluffy\\appdata\\local\\programs\\pythoncodingpack\\lib\\site-packages (from newspaper3k) (2.26.0)\n",
      "Requirement already satisfied: Pillow>=3.3.0 in c:\\users\\fluffy\\appdata\\local\\programs\\pythoncodingpack\\lib\\site-packages (from newspaper3k) (8.4.0)\n",
      "Requirement already satisfied: beautifulsoup4>=4.4.1 in c:\\users\\fluffy\\appdata\\local\\programs\\pythoncodingpack\\lib\\site-packages (from newspaper3k) (4.10.0)\n",
      "Requirement already satisfied: jieba3k>=0.35.1 in c:\\users\\fluffy\\appdata\\local\\programs\\pythoncodingpack\\lib\\site-packages (from newspaper3k) (0.35.1)\n",
      "Requirement already satisfied: cssselect>=0.9.2 in c:\\users\\fluffy\\appdata\\local\\programs\\pythoncodingpack\\lib\\site-packages (from newspaper3k) (1.1.0)\n",
      "Requirement already satisfied: lxml>=3.6.0 in c:\\users\\fluffy\\appdata\\local\\programs\\pythoncodingpack\\lib\\site-packages (from newspaper3k) (4.6.3)\n",
      "Requirement already satisfied: feedfinder2>=0.0.4 in c:\\users\\fluffy\\appdata\\local\\programs\\pythoncodingpack\\lib\\site-packages (from newspaper3k) (0.0.4)\n",
      "Requirement already satisfied: python-dateutil>=2.5.3 in c:\\users\\fluffy\\appdata\\local\\programs\\pythoncodingpack\\lib\\site-packages (from newspaper3k) (2.8.1)\n",
      "Requirement already satisfied: feedparser>=5.2.1 in c:\\users\\fluffy\\appdata\\local\\programs\\pythoncodingpack\\lib\\site-packages (from newspaper3k) (6.0.8)\n",
      "Requirement already satisfied: PyYAML>=3.11 in c:\\users\\fluffy\\appdata\\local\\programs\\pythoncodingpack\\lib\\site-packages (from newspaper3k) (6.0)\n",
      "Requirement already satisfied: soupsieve>1.2 in c:\\users\\fluffy\\appdata\\local\\programs\\pythoncodingpack\\lib\\site-packages (from beautifulsoup4>=4.4.1->newspaper3k) (2.3)\n",
      "Requirement already satisfied: six in c:\\users\\fluffy\\appdata\\local\\programs\\pythoncodingpack\\lib\\site-packages (from feedfinder2>=0.0.4->newspaper3k) (1.15.0)\n",
      "Requirement already satisfied: sgmllib3k in c:\\users\\fluffy\\appdata\\local\\programs\\pythoncodingpack\\lib\\site-packages (from feedparser>=5.2.1->newspaper3k) (1.0.0)\n",
      "Requirement already satisfied: joblib in c:\\users\\fluffy\\appdata\\local\\programs\\pythoncodingpack\\lib\\site-packages (from nltk>=3.2.1->newspaper3k) (0.16.0)\n",
      "Requirement already satisfied: regex>=2021.8.3 in c:\\users\\fluffy\\appdata\\local\\programs\\pythoncodingpack\\lib\\site-packages (from nltk>=3.2.1->newspaper3k) (2021.10.23)\n",
      "Requirement already satisfied: click in c:\\users\\fluffy\\appdata\\local\\programs\\pythoncodingpack\\lib\\site-packages (from nltk>=3.2.1->newspaper3k) (8.0.3)\n",
      "Requirement already satisfied: tqdm in c:\\users\\fluffy\\appdata\\local\\programs\\pythoncodingpack\\lib\\site-packages (from nltk>=3.2.1->newspaper3k) (4.62.3)\n",
      "Requirement already satisfied: certifi>=2017.4.17 in c:\\users\\fluffy\\appdata\\local\\programs\\pythoncodingpack\\lib\\site-packages (from requests>=2.10.0->newspaper3k) (2020.6.20)\n",
      "Requirement already satisfied: charset-normalizer~=2.0.0 in c:\\users\\fluffy\\appdata\\local\\programs\\pythoncodingpack\\lib\\site-packages (from requests>=2.10.0->newspaper3k) (2.0.6)\n",
      "Requirement already satisfied: urllib3<1.27,>=1.21.1 in c:\\users\\fluffy\\appdata\\local\\programs\\pythoncodingpack\\lib\\site-packages (from requests>=2.10.0->newspaper3k) (1.26.7)\n",
      "Requirement already satisfied: idna<4,>=2.5 in c:\\users\\fluffy\\appdata\\local\\programs\\pythoncodingpack\\lib\\site-packages (from requests>=2.10.0->newspaper3k) (3.2)\n",
      "Requirement already satisfied: requests-file>=1.4 in c:\\users\\fluffy\\appdata\\local\\programs\\pythoncodingpack\\lib\\site-packages (from tldextract>=2.0.1->newspaper3k) (1.5.1)\n",
      "Requirement already satisfied: filelock>=3.0.8 in c:\\users\\fluffy\\appdata\\local\\programs\\pythoncodingpack\\lib\\site-packages (from tldextract>=2.0.1->newspaper3k) (3.3.1)\n",
      "Requirement already satisfied: colorama in c:\\users\\fluffy\\appdata\\local\\programs\\pythoncodingpack\\lib\\site-packages (from click->nltk>=3.2.1->newspaper3k) (0.4.3)\n"
     ]
    },
    {
     "name": "stderr",
     "output_type": "stream",
     "text": [
      "WARNING: You are using pip version 22.0.4; however, version 22.1 is available.\n",
      "You should consider upgrading via the 'c:\\Users\\Fluffy\\AppData\\Local\\Programs\\PythonCodingPack\\python.exe -m pip install --upgrade pip' command.\n"
     ]
    },
    {
     "name": "stdout",
     "output_type": "stream",
     "text": [
      "Requirement already satisfied: wordcloud in c:\\users\\fluffy\\appdata\\local\\programs\\pythoncodingpack\\lib\\site-packages (1.8.1)"
     ]
    },
    {
     "name": "stderr",
     "output_type": "stream",
     "text": [
      "WARNING: You are using pip version 22.0.4; however, version 22.1 is available.\n",
      "You should consider upgrading via the 'c:\\Users\\Fluffy\\AppData\\Local\\Programs\\PythonCodingPack\\python.exe -m pip install --upgrade pip' command.\n"
     ]
    },
    {
     "name": "stdout",
     "output_type": "stream",
     "text": [
      "\n",
      "Requirement already satisfied: matplotlib in c:\\users\\fluffy\\appdata\\local\\programs\\pythoncodingpack\\lib\\site-packages (from wordcloud) (3.3.1)\n",
      "Requirement already satisfied: numpy>=1.6.1 in c:\\users\\fluffy\\appdata\\local\\programs\\pythoncodingpack\\lib\\site-packages (from wordcloud) (1.19.5)\n",
      "Requirement already satisfied: pillow in c:\\users\\fluffy\\appdata\\local\\programs\\pythoncodingpack\\lib\\site-packages (from wordcloud) (8.4.0)\n",
      "Requirement already satisfied: pyparsing!=2.0.4,!=2.1.2,!=2.1.6,>=2.0.3 in c:\\users\\fluffy\\appdata\\local\\programs\\pythoncodingpack\\lib\\site-packages (from matplotlib->wordcloud) (2.4.7)\n",
      "Requirement already satisfied: kiwisolver>=1.0.1 in c:\\users\\fluffy\\appdata\\local\\programs\\pythoncodingpack\\lib\\site-packages (from matplotlib->wordcloud) (1.2.0)\n",
      "Requirement already satisfied: certifi>=2020.06.20 in c:\\users\\fluffy\\appdata\\local\\programs\\pythoncodingpack\\lib\\site-packages (from matplotlib->wordcloud) (2020.6.20)\n",
      "Requirement already satisfied: python-dateutil>=2.1 in c:\\users\\fluffy\\appdata\\local\\programs\\pythoncodingpack\\lib\\site-packages (from matplotlib->wordcloud) (2.8.1)\n",
      "Requirement already satisfied: cycler>=0.10 in c:\\users\\fluffy\\appdata\\local\\programs\\pythoncodingpack\\lib\\site-packages (from matplotlib->wordcloud) (0.10.0)\n",
      "Requirement already satisfied: six in c:\\users\\fluffy\\appdata\\local\\programs\\pythoncodingpack\\lib\\site-packages (from cycler>=0.10->matplotlib->wordcloud) (1.15.0)\n"
     ]
    }
   ],
   "source": [
    "!pip install GoogleNews\n",
    "!pip install nltk\n",
    "!pip install newspaper3k\n",
    "!pip install wordcloud"
   ]
  },
  {
   "cell_type": "code",
   "execution_count": 31,
   "metadata": {},
   "outputs": [
    {
     "name": "stderr",
     "output_type": "stream",
     "text": [
      "[nltk_data] Downloading package vader_lexicon to\n",
      "[nltk_data]     C:\\Users\\Fluffy\\AppData\\Roaming\\nltk_data...\n",
      "[nltk_data]   Package vader_lexicon is already up-to-date!\n"
     ]
    },
    {
     "data": {
      "text/plain": [
       "True"
      ]
     },
     "execution_count": 31,
     "metadata": {},
     "output_type": "execute_result"
    }
   ],
   "source": [
    "#Importing Libraries\n",
    "\n",
    "from nltk.sentiment.vader import SentimentIntensityAnalyzer\n",
    "from GoogleNews import GoogleNews\n",
    "from newspaper import Article\n",
    "from newspaper import Config\n",
    "from wordcloud import WordCloud, STOPWORDS\n",
    "\n",
    "import pandas as pd\n",
    "import matplotlib.pyplot as plt\n",
    "import datetime as dt\n",
    "import nltk\n",
    "\n",
    "#Required for Sentiment Analysis\n",
    "nltk.download('vader_lexicon')"
   ]
  },
  {
   "cell_type": "markdown",
   "metadata": {},
   "source": [
    "News Extraction."
   ]
  },
  {
   "cell_type": "code",
   "execution_count": 32,
   "metadata": {},
   "outputs": [
    {
     "name": "stderr",
     "output_type": "stream",
     "text": [
      "[nltk_data] Downloading package punkt to\n",
      "[nltk_data]     C:\\Users\\Fluffy\\AppData\\Roaming\\nltk_data...\n",
      "[nltk_data]   Package punkt is already up-to-date!\n"
     ]
    }
   ],
   "source": [
    "now = dt.date.today()\n",
    "now = now.strftime('%m-%d-%Y')\n",
    "\n",
    "yesterday = dt.date.today() - dt.timedelta(days = 1)\n",
    "yesterday = yesterday.strftime('%m-%d-%Y')\n",
    "\n",
    "nltk.download('punkt')\n",
    "user_agent = 'Mozilla/5.0 (Macintosh; Intel Mac OS X 10.15; rv:78.0) Gecko/20100101 Firefox/78.0'\n",
    "\n",
    "config = Config()\n",
    "config.browser_user_agent = user_agent\n",
    "config.request_timeout = 10"
   ]
  },
  {
   "cell_type": "markdown",
   "metadata": {},
   "source": [
    "Keep in mind that the Google News package fetches only the 10 most recent news, this is important for our analysis to be timely & relevant."
   ]
  },
  {
   "cell_type": "code",
   "execution_count": 33,
   "metadata": {},
   "outputs": [
    {
     "name": "stdout",
     "output_type": "stream",
     "text": [
      "Extracting & Analyzing Crypto, it takes sometime!\n",
      "                                               title               media  \\\n",
      "0  Opinion | Crashing Crypto: Is This Time Differ...  The New York Times   \n",
      "1  Terra (UST, LUNA): Crypto Celebrates Booms and...       Bloomberg.com   \n",
      "2  Crypto's Great Reset: How Digital Asset Invest...              Forbes   \n",
      "3  Coinbase backtracks on its hiring plans, citin...          TechCrunch   \n",
      "4  Coinbase slows hiring as chill in crypto marke...     Financial Times   \n",
      "5  Coinbase to slow hiring amid plunge in cryptoc...                CNBC   \n",
      "6           How to invest more sustainably in crypto          MoneySense   \n",
      "7  The crypto Fear and Greed Index hits lowest le...             Fortune   \n",
      "8  Robinhood lets users manage their own crypto w...          TechCrunch   \n",
      "9  Elwood Technologies Touts Strong Focus on Cryp...            CoinDesk   \n",
      "\n",
      "          date                   datetime  \\\n",
      "0  1 hours ago 2022-05-18 09:50:27.132333   \n",
      "1  7 hours ago 2022-05-18 03:50:27.133238   \n",
      "2    1 day ago 2022-05-17 10:50:27.303877   \n",
      "3  7 hours ago 2022-05-18 03:50:27.305390   \n",
      "4    1 day ago 2022-05-17 10:50:27.315506   \n",
      "5  2 hours ago 2022-05-18 08:50:27.317107   \n",
      "6    1 day ago 2022-05-17 10:50:27.326093   \n",
      "7  0 hours ago 2022-05-18 10:50:27.328240   \n",
      "8  1 hours ago 2022-05-18 09:50:27.330047   \n",
      "9  9 hours ago 2022-05-18 01:50:27.331083   \n",
      "\n",
      "                                                desc  \\\n",
      "0  Ownership of a crypto asset is established thr...   \n",
      "1  Welcome to Bloomberg Crypto, our twice-weekly ...   \n",
      "2  The fourth took place in March 2020 when crypt...   \n",
      "3  Coinbase, the third-largest crypto exchange by...   \n",
      "4  But crypto traders have been put off by heavy ...   \n",
      "5  The crypto exchange told staff Tuesday it woul...   \n",
      "6  Each year, crypto mining uses huge amounts of ...   \n",
      "7  The same day, its Crypto Fear and Greed Index,...   \n",
      "8  CEO Vlad Tenev announced the company's plans t...   \n",
      "9  Elwood Technologies Touts Strong Focus on Cryp...   \n",
      "\n",
      "                                                link  \\\n",
      "0  https://www.nytimes.com/2022/05/17/opinion/cry...   \n",
      "1  https://www.bloomberg.com/news/newsletters/202...   \n",
      "2  https://www.forbes.com/sites/michaeldelcastill...   \n",
      "3  https://techcrunch.com/2022/05/17/coinbase-bac...   \n",
      "4  https://www.ft.com/content/3a39a772-3001-4994-...   \n",
      "5  https://www.cnbc.com/2022/05/17/coinbase-coin-...   \n",
      "6  https://www.moneysense.ca/save/investing/crypt...   \n",
      "7  https://fortune.com/2022/05/17/bitcoin-crypto-...   \n",
      "8  https://techcrunch.com/2022/05/17/robinhood-le...   \n",
      "9  https://www.coindesk.com/business/2022/05/17/e...   \n",
      "\n",
      "                                                 img  \n",
      "0  data:image/gif;base64,R0lGODlhAQABAIAAAP//////...  \n",
      "1  data:image/gif;base64,R0lGODlhAQABAIAAAP//////...  \n",
      "2  data:image/gif;base64,R0lGODlhAQABAIAAAP//////...  \n",
      "3  data:image/gif;base64,R0lGODlhAQABAIAAAP//////...  \n",
      "4  data:image/gif;base64,R0lGODlhAQABAIAAAP//////...  \n",
      "5  data:image/gif;base64,R0lGODlhAQABAIAAAP//////...  \n",
      "6  data:image/gif;base64,R0lGODlhAQABAIAAAP//////...  \n",
      "7  data:image/gif;base64,R0lGODlhAQABAIAAAP//////...  \n",
      "8  data:image/gif;base64,R0lGODlhAQABAIAAAP//////...  \n",
      "9  data:image/gif;base64,R0lGODlhAQABAIAAAP//////...  \n"
     ]
    }
   ],
   "source": [
    "keyword_interest = input(\"Please provide the name of the asset, stock or crypto of interest\")\n",
    "if keyword_interest != '':\n",
    "    print(f'Extracting & Analyzing {keyword_interest}, it takes sometime!')\n",
    "googlenews = GoogleNews(start = yesterday, end = now)\n",
    "googlenews.search(keyword_interest)\n",
    "result = googlenews.result()\n",
    "\n",
    "#Storing Results in a pd DataFrame\n",
    "df = pd.DataFrame(result)\n",
    "print(df)"
   ]
  },
  {
   "cell_type": "markdown",
   "metadata": {},
   "source": [
    "Article Summarization"
   ]
  },
  {
   "cell_type": "code",
   "execution_count": 34,
   "metadata": {},
   "outputs": [
    {
     "name": "stdout",
     "output_type": "stream",
     "text": [
      "There is an exception:'Article' object has no attribute 'Title'\n",
      "There are some issues in retrieving the date. Try again or enter a different keyword of interest!\n"
     ]
    }
   ],
   "source": [
    "try:\n",
    "    list = []\n",
    "    for i in df.index:\n",
    "        #Empty dictionary to append each article in each iteration\n",
    "        dict = {}\n",
    "        article = Article(df['link'][i], config = config)\n",
    "        try:\n",
    "            article.download()\n",
    "            article.parse()\n",
    "            article.nlp()\n",
    "        except:\n",
    "            pass\n",
    "        dict['Date'] = df['date'][i]\n",
    "        dict['Media'] = df['media'][i]\n",
    "        dict['Title'] = article.Title\n",
    "        dict['Article'] = article.text\n",
    "        dict['Summary'] = article.summary\n",
    "        dict['Key_words'] = article.keywords\n",
    "        list.append(dict)\n",
    "    check_empty = not any(list)\n",
    "\n",
    "    if check_empty == False:\n",
    "        news_DF = pd.DataFrame(list)\n",
    "        print(news_DF)\n",
    "\n",
    "except Exception as e:\n",
    "    print(\"There is an exception:\"+ str(e))\n",
    "    print(\"There are some issues in retrieving the date. Try again or enter a different keyword of interest!\")"
   ]
  },
  {
   "cell_type": "markdown",
   "metadata": {},
   "source": [
    "Sentiment Analysis of each summary"
   ]
  },
  {
   "cell_type": "code",
   "execution_count": 36,
   "metadata": {},
   "outputs": [
    {
     "name": "stderr",
     "output_type": "stream",
     "text": [
      "<>:45: SyntaxWarning: str indices must be integers or slices, not str; perhaps you missed a comma?\n",
      "<>:45: SyntaxWarning: str indices must be integers or slices, not str; perhaps you missed a comma?\n"
     ]
    },
    {
     "ename": "NameError",
     "evalue": "name 'news_df' is not defined",
     "output_type": "error",
     "traceback": [
      "\u001b[1;31m---------------------------------------------------------------------------\u001b[0m",
      "\u001b[1;31mNameError\u001b[0m                                 Traceback (most recent call last)",
      "\u001b[1;32m~\\AppData\\Local\\Temp/ipykernel_26264/3758738378.py\u001b[0m in \u001b[0;36m<module>\u001b[1;34m\u001b[0m\n\u001b[1;32m----> 1\u001b[1;33m \u001b[0mnews_df\u001b[0m \u001b[1;33m=\u001b[0m \u001b[0mnews_df\u001b[0m\u001b[1;33m\u001b[0m\u001b[1;33m\u001b[0m\u001b[0m\n\u001b[0m\u001b[0;32m      2\u001b[0m \u001b[1;32mdef\u001b[0m \u001b[0msentiment_percentage\u001b[0m\u001b[1;33m(\u001b[0m\u001b[0mpart\u001b[0m\u001b[1;33m,\u001b[0m \u001b[0mwhole\u001b[0m\u001b[1;33m)\u001b[0m\u001b[1;33m:\u001b[0m\u001b[1;33m\u001b[0m\u001b[1;33m\u001b[0m\u001b[0m\n\u001b[0;32m      3\u001b[0m     \u001b[1;32mreturn\u001b[0m \u001b[1;36m100\u001b[0m \u001b[1;33m*\u001b[0m \u001b[0mfloat\u001b[0m\u001b[1;33m(\u001b[0m\u001b[0mpart\u001b[0m\u001b[1;33m)\u001b[0m\u001b[1;33m/\u001b[0m \u001b[0mfloat\u001b[0m\u001b[1;33m(\u001b[0m\u001b[0mwhole\u001b[0m\u001b[1;33m)\u001b[0m\u001b[1;33m\u001b[0m\u001b[1;33m\u001b[0m\u001b[0m\n\u001b[0;32m      4\u001b[0m \u001b[1;33m\u001b[0m\u001b[0m\n\u001b[0;32m      5\u001b[0m \u001b[1;31m#Initial values\u001b[0m\u001b[1;33m\u001b[0m\u001b[1;33m\u001b[0m\u001b[1;33m\u001b[0m\u001b[0m\n",
      "\u001b[1;31mNameError\u001b[0m: name 'news_df' is not defined"
     ]
    }
   ],
   "source": [
    "news_df = news_df\n",
    "def sentiment_percentage(part, whole):\n",
    "    return 100 * float(part)/ float(whole)\n",
    "\n",
    "#Initial values\n",
    "positive = 0\n",
    "negative = 0\n",
    "neutral = 0\n",
    "\n",
    "#Empty lists:\n",
    "\n",
    "list_news = []\n",
    "list_neutral = []\n",
    "list_negative = []\n",
    "list_positive = []\n",
    "\n",
    "#Iterating throught the news in our dataframe \n",
    "for news in news_df['Summary']:\n",
    "    list_news.append(news)\n",
    "    analyzer = SentimentIntensityAnalyzer().polarity_scores(news)\n",
    "    nega = analyzer['neg']\n",
    "    neut = analyzer['neu']\n",
    "    posi = analyzer['pos']\n",
    "    comp = analyzer['compound']\n",
    "\n",
    "    if nega > posi:\n",
    "        list_negative.append(news)\n",
    "        negative += 1\n",
    "    elif posi > nega:\n",
    "        list_positive.append(news)\n",
    "        positive += 1\n",
    "    elif posi == nega:\n",
    "        list_neutral.append(news)\n",
    "        neutral += 1\n",
    "positive = sentiment_percentage(positive, len(news_DF))\n",
    "negative = sentiment_percentage(negative, len(news_DF))\n",
    "neutral = sentiment_percentage(neutral, len(news_DF))\n",
    "\n",
    "print(\"Positive Sentiment\", \"%.2f\" % len(list_positive), end = '\\n')\n",
    "print(\"Neutral Sentiment\", '%.2f' %len(list_neutral), end = '\\n')\n",
    "print(\"Negative Sentiment\", \"%.2f\" %len(list_negative), end = '\\n')\n",
    "\n",
    "#PieChart\n",
    "\n",
    "labels = ['Positive'['+str(round(positive))+%'], 'Neutral['+str(round(neutral))+'%]','Negative['+str(round(negative))+'%]']\n",
    "sizes = [positive, neutral, negative]\n",
    "colorts = ['yellowgreen', 'blue', 'red']\n",
    "\n",
    "patches, texts = plt.pie(sizes, colors = colors, startangle = 90)\n",
    "plt.style.use('default')\n",
    "plt.legend(labels)\n",
    "plt.title(\"Sentiment Analysis of = \" +keyword_interest+\"\")\n",
    "plt.axis('equal')\n",
    "plt.show()"
   ]
  },
  {
   "cell_type": "markdown",
   "metadata": {},
   "source": [
    "Word Cloud Visualization    "
   ]
  },
  {
   "cell_type": "code",
   "execution_count": null,
   "metadata": {},
   "outputs": [
    {
     "name": "stdout",
     "output_type": "stream",
     "text": [
      "WordCloud for USDT\n"
     ]
    },
    {
     "ename": "NameError",
     "evalue": "name 'news_df' is not defined",
     "output_type": "error",
     "traceback": [
      "\u001b[1;31m---------------------------------------------------------------------------\u001b[0m",
      "\u001b[1;31mNameError\u001b[0m                                 Traceback (most recent call last)",
      "\u001b[1;32m~\\AppData\\Local\\Temp/ipykernel_26264/3632215796.py\u001b[0m in \u001b[0;36m<module>\u001b[1;34m\u001b[0m\n\u001b[0;32m     11\u001b[0m \u001b[1;33m\u001b[0m\u001b[0m\n\u001b[0;32m     12\u001b[0m \u001b[0mprint\u001b[0m\u001b[1;33m(\u001b[0m\u001b[1;34m'WordCloud for '\u001b[0m \u001b[1;33m+\u001b[0m \u001b[0mkeyword_interest\u001b[0m\u001b[1;33m)\u001b[0m\u001b[1;33m\u001b[0m\u001b[1;33m\u001b[0m\u001b[0m\n\u001b[1;32m---> 13\u001b[1;33m \u001b[0mcloud_words\u001b[0m\u001b[1;33m(\u001b[0m\u001b[0mnews_df\u001b[0m\u001b[1;33m[\u001b[0m\u001b[1;34m'Summary'\u001b[0m\u001b[1;33m]\u001b[0m\u001b[1;33m.\u001b[0m\u001b[0mvalues\u001b[0m\u001b[1;33m)\u001b[0m\u001b[1;33m\u001b[0m\u001b[1;33m\u001b[0m\u001b[0m\n\u001b[0m",
      "\u001b[1;31mNameError\u001b[0m: name 'news_df' is not defined"
     ]
    }
   ],
   "source": [
    "def cloud_words(text):\n",
    "    stopwords = set(STOPWORDS)\n",
    "    allWords = ' '.join([nws for nws in text])\n",
    "    wordCloud - WordCloud(background_color = 'grey', width = 1600, height = 800, stopwords = stopwords, min_font_size= 18, max_font_size= 150, colormap= 'prism').generate(allWords)\n",
    "\n",
    "    fig, ax = plt.subplots(figsize = (20,10), facecolor = 'k')\n",
    "    plt.imshow(wordCloud)\n",
    "    ax.axis(\"off\")\n",
    "    fig.tight_layout(pad = 0)\n",
    "    plt.show()\n",
    "\n",
    "print('WordCloud for ' + keyword_interest)\n",
    "cloud_words(news_DF['Summary'].values)"
   ]
  }
 ],
 "metadata": {
  "interpreter": {
   "hash": "8691f65de227c2dd14ae9ac858e1fa0e22abdb1615ca6522899f00b2d15c28a2"
  },
  "kernelspec": {
   "display_name": "Python 3.8.5 64-bit",
   "language": "python",
   "name": "python3"
  },
  "language_info": {
   "codemirror_mode": {
    "name": "ipython",
    "version": 3
   },
   "file_extension": ".py",
   "mimetype": "text/x-python",
   "name": "python",
   "nbconvert_exporter": "python",
   "pygments_lexer": "ipython3",
   "version": "3.8.5"
  },
  "orig_nbformat": 4
 },
 "nbformat": 4,
 "nbformat_minor": 2
}
